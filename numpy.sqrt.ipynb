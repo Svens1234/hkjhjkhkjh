{
 "cells": [
  {
   "cell_type": "code",
   "execution_count": 1,
   "id": "037fcd86",
   "metadata": {},
   "outputs": [],
   "source": [
    "import numpy as np"
   ]
  },
  {
   "cell_type": "code",
   "execution_count": 2,
   "id": "dece0f19",
   "metadata": {},
   "outputs": [
    {
     "data": {
      "text/plain": [
       "array([1., 2., 3.])"
      ]
     },
     "execution_count": 2,
     "metadata": {},
     "output_type": "execute_result"
    }
   ],
   "source": [
    "np.sqrt([1,4,9])"
   ]
  },
  {
   "cell_type": "code",
   "execution_count": 3,
   "id": "da87b501",
   "metadata": {},
   "outputs": [
    {
     "data": {
      "text/plain": [
       "array([2.+0.j, 0.+1.j, 1.+2.j])"
      ]
     },
     "execution_count": 3,
     "metadata": {},
     "output_type": "execute_result"
    }
   ],
   "source": [
    "np.sqrt([4, -1, -3+4J])"
   ]
  },
  {
   "cell_type": "code",
   "execution_count": 4,
   "id": "aa447723",
   "metadata": {},
   "outputs": [
    {
     "name": "stderr",
     "output_type": "stream",
     "text": [
      "C:\\Users\\User\\AppData\\Local\\Temp\\ipykernel_2748\\2120485533.py:1: RuntimeWarning: invalid value encountered in sqrt\n",
      "  np.sqrt([4, -1, np.inf])\n"
     ]
    },
    {
     "data": {
      "text/plain": [
       "array([ 2., nan, inf])"
      ]
     },
     "execution_count": 4,
     "metadata": {},
     "output_type": "execute_result"
    }
   ],
   "source": [
    "np.sqrt([4, -1, np.inf])"
   ]
  },
  {
   "cell_type": "code",
   "execution_count": null,
   "id": "c2c1d196",
   "metadata": {},
   "outputs": [],
   "source": []
  }
 ],
 "metadata": {
  "kernelspec": {
   "display_name": "Python 3 (ipykernel)",
   "language": "python",
   "name": "python3"
  },
  "language_info": {
   "codemirror_mode": {
    "name": "ipython",
    "version": 3
   },
   "file_extension": ".py",
   "mimetype": "text/x-python",
   "name": "python",
   "nbconvert_exporter": "python",
   "pygments_lexer": "ipython3",
   "version": "3.10.5"
  }
 },
 "nbformat": 4,
 "nbformat_minor": 5
}
